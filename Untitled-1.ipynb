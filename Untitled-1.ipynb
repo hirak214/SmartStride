{
 "cells": [
  {
   "cell_type": "code",
   "execution_count": 36,
   "metadata": {},
   "outputs": [
    {
     "name": "stdout",
     "output_type": "stream",
     "text": [
      "   Time     Speed  RunIndex\n",
      "0     0  7.200306         0\n",
      "1     5  7.944345         0\n",
      "2    10  6.153161         0\n",
      "3    15  6.790287         0\n",
      "4    20  7.145574         0\n"
     ]
    }
   ],
   "source": [
    "# Generate time series data for each run\n",
    "time_series_data = pd.DataFrame()\n",
    "\n",
    "for index, row in past_runs_data.iterrows():\n",
    "    run_time = np.arange(0, np.random.randint(600, 1201), 5)  # Random run time between 10 to 20 mins\n",
    "    run_speed = np.random.normal(row['Speed'], 1, len(run_time))  # Simulating variations in speed\n",
    "    \n",
    "    run_data = pd.DataFrame({\n",
    "        'Time': run_time,\n",
    "        'Speed': run_speed,\n",
    "        'RunIndex': [index] * len(run_time),  # Add a column to identify the run\n",
    "    })\n",
    "    \n",
    "    time_series_data = pd.concat([time_series_data, run_data])\n",
    "\n",
    "# Display the generated time series data\n",
    "print(time_series_data.head())\n"
   ]
  },
  {
   "cell_type": "code",
   "execution_count": 40,
   "metadata": {},
   "outputs": [
    {
     "name": "stdout",
     "output_type": "stream",
     "text": [
      "   Time  Speed  RunIndex\n",
      "0     0   80.0       100\n",
      "1     5   80.0       100\n",
      "2    10   80.0       100\n",
      "3    15   80.0       100\n",
      "4    20   80.0       100\n"
     ]
    }
   ],
   "source": [
    "import pandas as pd\n",
    "import numpy as np\n",
    "from sklearn.linear_model import LinearRegression\n",
    "\n",
    "# Step 1: Generate Sample Data\n",
    "np.random.seed(42)\n",
    "\n",
    "# Generate sample data for past runs\n",
    "num_runs = 100\n",
    "age = np.random.randint(18, 60, num_runs)\n",
    "gender = np.random.choice(['Male', 'Female'], num_runs)\n",
    "height = np.random.uniform(150, 190, num_runs)\n",
    "weight = np.random.uniform(50, 100, num_runs)\n",
    "time = np.arange(1, num_runs + 1)\n",
    "speed = np.random.uniform(5, 15, num_runs)\n",
    "\n",
    "past_runs_data = pd.DataFrame({\n",
    "    'Age': age,\n",
    "    'Gender': gender,\n",
    "    'Height': height,\n",
    "    'Weight': weight,\n",
    "    'Time': time,\n",
    "    'Speed': speed\n",
    "})\n",
    "\n",
    "# Step 2: Train a Model\n",
    "X_train = past_runs_data[['Age', 'Height', 'Weight', 'Time', 'Speed']]\n",
    "y_train = past_runs_data['Weight']\n",
    "\n",
    "model = LinearRegression()\n",
    "model.fit(X_train, y_train)\n",
    "\n",
    "# Step 3: Simulate User Input for the Next Run\n",
    "user_input = pd.DataFrame({\n",
    "    'Age': [30],\n",
    "    'Gender': ['Male'],\n",
    "    'Height': [175],\n",
    "    'Weight': [80],\n",
    "    'Time': [9],  # Add a dummy time value for prediction\n",
    "    'Speed': [0],  # Add a dummy speed value for prediction\n",
    "    'TargetWeight': [75],\n",
    "    'WeeksToAchieve': [12]\n",
    "})\n",
    "\n",
    "# Step 4: Use the Model to Predict the Next Run's Speed\n",
    "user_features = user_input[['Age', 'Height', 'Weight', 'Time', 'Speed']]\n",
    "predicted_speed = model.predict(user_features)\n",
    "\n",
    "# Step 5: Generate Future Time Series Data for the Next Run\n",
    "future_run_time = np.arange(0, 1201, 5)  # Assuming a 20-minute run for simplicity\n",
    "future_run_speed = np.full(len(future_run_time), predicted_speed[0])\n",
    "\n",
    "future_time_series_data = pd.DataFrame({\n",
    "    'Time': future_run_time,\n",
    "    'Speed': future_run_speed,\n",
    "    'RunIndex': [num_runs] * len(future_run_time)\n",
    "})\n",
    "\n",
    "# Display the future time series data\n",
    "print(future_time_series_data.head())\n"
   ]
  },
  {
   "cell_type": "code",
   "execution_count": 41,
   "metadata": {},
   "outputs": [
    {
     "ename": "ValueError",
     "evalue": "The feature names should match those that were passed during fit.\nFeature names seen at fit time, yet now missing:\n- Speed\n",
     "output_type": "error",
     "traceback": [
      "\u001b[0;31m---------------------------------------------------------------------------\u001b[0m",
      "\u001b[0;31mValueError\u001b[0m                                Traceback (most recent call last)",
      "Cell \u001b[0;32mIn[41], line 6\u001b[0m\n\u001b[1;32m      3\u001b[0m \u001b[38;5;66;03m# Assuming you have a trained model named 'model'\u001b[39;00m\n\u001b[1;32m      4\u001b[0m \u001b[38;5;66;03m# Use the model to predict the next run's speed\u001b[39;00m\n\u001b[1;32m      5\u001b[0m user_features_for_prediction \u001b[38;5;241m=\u001b[39m user_input[[\u001b[38;5;124m'\u001b[39m\u001b[38;5;124mAge\u001b[39m\u001b[38;5;124m'\u001b[39m, \u001b[38;5;124m'\u001b[39m\u001b[38;5;124mHeight\u001b[39m\u001b[38;5;124m'\u001b[39m, \u001b[38;5;124m'\u001b[39m\u001b[38;5;124mWeight\u001b[39m\u001b[38;5;124m'\u001b[39m, \u001b[38;5;124m'\u001b[39m\u001b[38;5;124mTime\u001b[39m\u001b[38;5;124m'\u001b[39m]]\n\u001b[0;32m----> 6\u001b[0m predicted_speed \u001b[38;5;241m=\u001b[39m \u001b[43mmodel\u001b[49m\u001b[38;5;241;43m.\u001b[39;49m\u001b[43mpredict\u001b[49m\u001b[43m(\u001b[49m\u001b[43muser_features_for_prediction\u001b[49m\u001b[43m)\u001b[49m\n\u001b[1;32m      8\u001b[0m \u001b[38;5;66;03m# Generate future time series data for the next run with dynamic variations\u001b[39;00m\n\u001b[1;32m      9\u001b[0m future_run_time \u001b[38;5;241m=\u001b[39m np\u001b[38;5;241m.\u001b[39marange(\u001b[38;5;241m0\u001b[39m, \u001b[38;5;241m1201\u001b[39m, \u001b[38;5;241m5\u001b[39m)  \u001b[38;5;66;03m# Assuming a 20-minute run for simplicity\u001b[39;00m\n",
      "File \u001b[0;32m~/Documents/Workspace/GitHub/SmartStride/.venv/lib/python3.12/site-packages/sklearn/linear_model/_base.py:286\u001b[0m, in \u001b[0;36mLinearModel.predict\u001b[0;34m(self, X)\u001b[0m\n\u001b[1;32m    272\u001b[0m \u001b[38;5;28;01mdef\u001b[39;00m \u001b[38;5;21mpredict\u001b[39m(\u001b[38;5;28mself\u001b[39m, X):\n\u001b[1;32m    273\u001b[0m \u001b[38;5;250m    \u001b[39m\u001b[38;5;124;03m\"\"\"\u001b[39;00m\n\u001b[1;32m    274\u001b[0m \u001b[38;5;124;03m    Predict using the linear model.\u001b[39;00m\n\u001b[1;32m    275\u001b[0m \n\u001b[0;32m   (...)\u001b[0m\n\u001b[1;32m    284\u001b[0m \u001b[38;5;124;03m        Returns predicted values.\u001b[39;00m\n\u001b[1;32m    285\u001b[0m \u001b[38;5;124;03m    \"\"\"\u001b[39;00m\n\u001b[0;32m--> 286\u001b[0m     \u001b[38;5;28;01mreturn\u001b[39;00m \u001b[38;5;28;43mself\u001b[39;49m\u001b[38;5;241;43m.\u001b[39;49m\u001b[43m_decision_function\u001b[49m\u001b[43m(\u001b[49m\u001b[43mX\u001b[49m\u001b[43m)\u001b[49m\n",
      "File \u001b[0;32m~/Documents/Workspace/GitHub/SmartStride/.venv/lib/python3.12/site-packages/sklearn/linear_model/_base.py:269\u001b[0m, in \u001b[0;36mLinearModel._decision_function\u001b[0;34m(self, X)\u001b[0m\n\u001b[1;32m    266\u001b[0m \u001b[38;5;28;01mdef\u001b[39;00m \u001b[38;5;21m_decision_function\u001b[39m(\u001b[38;5;28mself\u001b[39m, X):\n\u001b[1;32m    267\u001b[0m     check_is_fitted(\u001b[38;5;28mself\u001b[39m)\n\u001b[0;32m--> 269\u001b[0m     X \u001b[38;5;241m=\u001b[39m \u001b[38;5;28;43mself\u001b[39;49m\u001b[38;5;241;43m.\u001b[39;49m\u001b[43m_validate_data\u001b[49m\u001b[43m(\u001b[49m\u001b[43mX\u001b[49m\u001b[43m,\u001b[49m\u001b[43m \u001b[49m\u001b[43maccept_sparse\u001b[49m\u001b[38;5;241;43m=\u001b[39;49m\u001b[43m[\u001b[49m\u001b[38;5;124;43m\"\u001b[39;49m\u001b[38;5;124;43mcsr\u001b[39;49m\u001b[38;5;124;43m\"\u001b[39;49m\u001b[43m,\u001b[49m\u001b[43m \u001b[49m\u001b[38;5;124;43m\"\u001b[39;49m\u001b[38;5;124;43mcsc\u001b[39;49m\u001b[38;5;124;43m\"\u001b[39;49m\u001b[43m,\u001b[49m\u001b[43m \u001b[49m\u001b[38;5;124;43m\"\u001b[39;49m\u001b[38;5;124;43mcoo\u001b[39;49m\u001b[38;5;124;43m\"\u001b[39;49m\u001b[43m]\u001b[49m\u001b[43m,\u001b[49m\u001b[43m \u001b[49m\u001b[43mreset\u001b[49m\u001b[38;5;241;43m=\u001b[39;49m\u001b[38;5;28;43;01mFalse\u001b[39;49;00m\u001b[43m)\u001b[49m\n\u001b[1;32m    270\u001b[0m     \u001b[38;5;28;01mreturn\u001b[39;00m safe_sparse_dot(X, \u001b[38;5;28mself\u001b[39m\u001b[38;5;241m.\u001b[39mcoef_\u001b[38;5;241m.\u001b[39mT, dense_output\u001b[38;5;241m=\u001b[39m\u001b[38;5;28;01mTrue\u001b[39;00m) \u001b[38;5;241m+\u001b[39m \u001b[38;5;28mself\u001b[39m\u001b[38;5;241m.\u001b[39mintercept_\n",
      "File \u001b[0;32m~/Documents/Workspace/GitHub/SmartStride/.venv/lib/python3.12/site-packages/sklearn/base.py:608\u001b[0m, in \u001b[0;36mBaseEstimator._validate_data\u001b[0;34m(self, X, y, reset, validate_separately, cast_to_ndarray, **check_params)\u001b[0m\n\u001b[1;32m    537\u001b[0m \u001b[38;5;28;01mdef\u001b[39;00m \u001b[38;5;21m_validate_data\u001b[39m(\n\u001b[1;32m    538\u001b[0m     \u001b[38;5;28mself\u001b[39m,\n\u001b[1;32m    539\u001b[0m     X\u001b[38;5;241m=\u001b[39m\u001b[38;5;124m\"\u001b[39m\u001b[38;5;124mno_validation\u001b[39m\u001b[38;5;124m\"\u001b[39m,\n\u001b[0;32m   (...)\u001b[0m\n\u001b[1;32m    544\u001b[0m     \u001b[38;5;241m*\u001b[39m\u001b[38;5;241m*\u001b[39mcheck_params,\n\u001b[1;32m    545\u001b[0m ):\n\u001b[1;32m    546\u001b[0m \u001b[38;5;250m    \u001b[39m\u001b[38;5;124;03m\"\"\"Validate input data and set or check the `n_features_in_` attribute.\u001b[39;00m\n\u001b[1;32m    547\u001b[0m \n\u001b[1;32m    548\u001b[0m \u001b[38;5;124;03m    Parameters\u001b[39;00m\n\u001b[0;32m   (...)\u001b[0m\n\u001b[1;32m    606\u001b[0m \u001b[38;5;124;03m        validated.\u001b[39;00m\n\u001b[1;32m    607\u001b[0m \u001b[38;5;124;03m    \"\"\"\u001b[39;00m\n\u001b[0;32m--> 608\u001b[0m     \u001b[38;5;28;43mself\u001b[39;49m\u001b[38;5;241;43m.\u001b[39;49m\u001b[43m_check_feature_names\u001b[49m\u001b[43m(\u001b[49m\u001b[43mX\u001b[49m\u001b[43m,\u001b[49m\u001b[43m \u001b[49m\u001b[43mreset\u001b[49m\u001b[38;5;241;43m=\u001b[39;49m\u001b[43mreset\u001b[49m\u001b[43m)\u001b[49m\n\u001b[1;32m    610\u001b[0m     \u001b[38;5;28;01mif\u001b[39;00m y \u001b[38;5;129;01mis\u001b[39;00m \u001b[38;5;28;01mNone\u001b[39;00m \u001b[38;5;129;01mand\u001b[39;00m \u001b[38;5;28mself\u001b[39m\u001b[38;5;241m.\u001b[39m_get_tags()[\u001b[38;5;124m\"\u001b[39m\u001b[38;5;124mrequires_y\u001b[39m\u001b[38;5;124m\"\u001b[39m]:\n\u001b[1;32m    611\u001b[0m         \u001b[38;5;28;01mraise\u001b[39;00m \u001b[38;5;167;01mValueError\u001b[39;00m(\n\u001b[1;32m    612\u001b[0m             \u001b[38;5;124mf\u001b[39m\u001b[38;5;124m\"\u001b[39m\u001b[38;5;124mThis \u001b[39m\u001b[38;5;132;01m{\u001b[39;00m\u001b[38;5;28mself\u001b[39m\u001b[38;5;241m.\u001b[39m\u001b[38;5;18m__class__\u001b[39m\u001b[38;5;241m.\u001b[39m\u001b[38;5;18m__name__\u001b[39m\u001b[38;5;132;01m}\u001b[39;00m\u001b[38;5;124m estimator \u001b[39m\u001b[38;5;124m\"\u001b[39m\n\u001b[1;32m    613\u001b[0m             \u001b[38;5;124m\"\u001b[39m\u001b[38;5;124mrequires y to be passed, but the target y is None.\u001b[39m\u001b[38;5;124m\"\u001b[39m\n\u001b[1;32m    614\u001b[0m         )\n",
      "File \u001b[0;32m~/Documents/Workspace/GitHub/SmartStride/.venv/lib/python3.12/site-packages/sklearn/base.py:535\u001b[0m, in \u001b[0;36mBaseEstimator._check_feature_names\u001b[0;34m(self, X, reset)\u001b[0m\n\u001b[1;32m    530\u001b[0m \u001b[38;5;28;01mif\u001b[39;00m \u001b[38;5;129;01mnot\u001b[39;00m missing_names \u001b[38;5;129;01mand\u001b[39;00m \u001b[38;5;129;01mnot\u001b[39;00m unexpected_names:\n\u001b[1;32m    531\u001b[0m     message \u001b[38;5;241m+\u001b[39m\u001b[38;5;241m=\u001b[39m (\n\u001b[1;32m    532\u001b[0m         \u001b[38;5;124m\"\u001b[39m\u001b[38;5;124mFeature names must be in the same order as they were in fit.\u001b[39m\u001b[38;5;130;01m\\n\u001b[39;00m\u001b[38;5;124m\"\u001b[39m\n\u001b[1;32m    533\u001b[0m     )\n\u001b[0;32m--> 535\u001b[0m \u001b[38;5;28;01mraise\u001b[39;00m \u001b[38;5;167;01mValueError\u001b[39;00m(message)\n",
      "\u001b[0;31mValueError\u001b[0m: The feature names should match those that were passed during fit.\nFeature names seen at fit time, yet now missing:\n- Speed\n"
     ]
    }
   ],
   "source": [
    "import matplotlib.pyplot as plt\n",
    "\n",
    "# Assuming you have a trained model named 'model'\n",
    "# Use the model to predict the next run's speed\n",
    "user_features_for_prediction = user_input[['Age', 'Height', 'Weight', 'Time']]\n",
    "predicted_speed = model.predict(user_features_for_prediction)\n",
    "\n",
    "# Generate future time series data for the next run with dynamic variations\n",
    "future_run_time = np.arange(0, 1201, 5)  # Assuming a 20-minute run for simplicity\n",
    "dynamic_variation = np.sin(np.linspace(0, 4 * np.pi, len(future_run_time)))  # Example dynamic variation\n",
    "future_run_speed = predicted_speed[0] + dynamic_variation\n",
    "\n",
    "# Calculate the \"Volume\" based on the speed at each time\n",
    "volume = np.cumsum(future_run_speed) * 5 / 60  # Assuming time interval is 5 seconds and convert to minutes\n",
    "\n",
    "future_time_series_data = pd.DataFrame({\n",
    "    'Time': future_run_time,\n",
    "    'Speed': future_run_speed,\n",
    "    'Volume': volume,\n",
    "    'RunIndex': [num_runs] * len(future_run_time),  # Use a new index for the next run\n",
    "})\n",
    "\n",
    "# Plotting the Future Run Data with dynamic variations\n",
    "plt.figure(figsize=(12, 6))\n",
    "plt.plot(future_time_series_data['Time'], future_time_series_data['Speed'], label='Future Run', linestyle='--', color='red')\n",
    "plt.plot(future_time_series_data['Time'], future_time_series_data['Volume'], label='Volume', linestyle='-', color='blue')\n",
    "\n",
    "# Adding labels and title\n",
    "plt.xlabel('Time (seconds)')\n",
    "plt.ylabel('Speed / Volume')\n",
    "plt.title('Future Run Data with Dynamic Variations')\n",
    "plt.legend()\n",
    "plt.grid(True)\n",
    "\n",
    "# Show the plot\n",
    "plt.show()\n"
   ]
  },
  {
   "cell_type": "code",
   "execution_count": 32,
   "metadata": {},
   "outputs": [
    {
     "data": {
      "image/png": "[encoded data removed]",
      "text/plain": [
       "<Figure size 1200x600 with 1 Axes>"
      ]
     },
     "metadata": {},
     "output_type": "display_data"
    }
   ],
   "source": [
    "import matplotlib.pyplot as plt\n",
    "\n",
    "# Plotting the Future Run Data\n",
    "plt.figure(figsize=(12, 6))\n",
    "plt.plot(future_time_series_data['Time'], future_time_series_data['Speed'], label='Future Run', linestyle='--', color='red')\n",
    "\n",
    "# Adding labels and title\n",
    "plt.xlabel('Time (seconds)')\n",
    "plt.ylabel('Speed')\n",
    "plt.title('Future Run Data')\n",
    "plt.legend()\n",
    "plt.grid(True)\n",
    "\n",
    "# Show the plot\n",
    "plt.show()\n"
   ]
  },
  {
   "cell_type": "code",
   "execution_count": null,
   "metadata": {},
   "outputs": [],
   "source": []
  }
 ],
 "metadata": {
  "kernelspec": {
   "display_name": ".venv",
   "language": "python",
   "name": "python3"
  },
  "language_info": {
   "codemirror_mode": {
    "name": "ipython",
    "version": 3
   },
   "file_extension": ".py",
   "mimetype": "text/x-python",
   "name": "python",
   "nbconvert_exporter": "python",
   "pygments_lexer": "ipython3",
   "version": "3.12.0"
  }
 },
 "nbformat": 4,
 "nbformat_minor": 2
}
