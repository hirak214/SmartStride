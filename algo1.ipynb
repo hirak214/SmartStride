{
 "cells": [
  {
   "cell_type": "code",
   "execution_count": 22,
   "metadata": {},
   "outputs": [],
   "source": [
    "import pandas as pd\n",
    "import numpy as np"
   ]
  },
  {
   "cell_type": "code",
   "execution_count": 23,
   "metadata": {},
   "outputs": [
    {
     "name": "stdout",
     "output_type": "stream",
     "text": [
      "   Age  Gender      Height     Weight  Time     Speed\n",
      "0   21  Female  162.393199  60.503920     1  8.586464\n",
      "1   46  Female  177.697441  82.255168     2  6.201646\n",
      "2   32  Female  160.776493  83.446203     3  8.418797\n",
      "3   25  Female  159.765021  93.208378     4  5.917991\n",
      "4   38    Male  156.731642  61.509263     5  5.941570\n"
     ]
    }
   ],
   "source": [
    "past_runs_data = pd.read_csv('past_runs_data.csv')\n",
    "print(past_runs_data.head())"
   ]
  },
  {
   "cell_type": "code",
   "execution_count": 24,
   "metadata": {},
   "outputs": [
    {
     "name": "stdout",
     "output_type": "stream",
     "text": [
      "Generating data for individual: Age               21\n",
      "Gender        Female\n",
      "Height    162.393199\n",
      "Weight      60.50392\n",
      "Time               1\n",
      "Speed       8.586464\n",
      "Name: 0, dtype: object, \n",
      "   Time     Speed  RunIndex\n",
      "0     0  8.543184         0\n",
      "1     5  9.997768         0\n",
      "2    10  7.338559         0\n",
      "3    15  8.398633         0\n",
      "4    20  7.159618         0\n"
     ]
    }
   ],
   "source": [
    "# Selecting the first individual from past_runs_data\n",
    "selected_individual = past_runs_data.iloc[0]\n",
    "print(f\"Generating data for individual: {selected_individual}, \")\n",
    "\n",
    "# Generate time series data for the selected individual\n",
    "time_series_data = pd.DataFrame()\n",
    "run_time = np.arange(0, np.random.randint(600, 1201), 5)  # Random run time between 10 to 20 mins\n",
    "run_speed = np.random.normal(selected_individual['Speed'], 1, len(run_time))  # Simulating variations in speed\n",
    "\n",
    "run_data = pd.DataFrame({\n",
    "    'Time': run_time,\n",
    "    'Speed': run_speed,\n",
    "    'RunIndex': [0] * len(run_time),  # Add a column to identify the run\n",
    "})\n",
    "\n",
    "time_series_data = pd.concat([time_series_data, run_data])\n",
    "\n",
    "# Display the generated time series data\n",
    "print(time_series_data.head())\n"
   ]
  },
  {
   "cell_type": "code",
   "execution_count": null,
   "metadata": {},
   "outputs": [],
   "source": [
    "# # Generate time series data for each run\n",
    "# time_series_data = pd.DataFrame()\n",
    "\n",
    "# for index, row in past_runs_data.iterrows():\n",
    "#     run_time = np.arange(0, np.random.randint(600, 1201), 5)  # Random run time between 10 to 20 mins\n",
    "#     run_speed = np.random.normal(row['Speed'], 1, len(run_time))  # Simulating variations in speed\n",
    "    \n",
    "#     run_data = pd.DataFrame({\n",
    "#         'Time': run_time,\n",
    "#         'Speed': run_speed,\n",
    "#         'RunIndex': [index] * len(run_time),  # Add a column to identify the run\n",
    "#     })\n",
    "    \n",
    "#     time_series_data = pd.concat([time_series_data, run_data])\n",
    "\n",
    "# # Display the generated time series data\n",
    "# print(time_series_data.head())\n"
   ]
  },
  {
   "cell_type": "code",
   "execution_count": null,
   "metadata": {},
   "outputs": [],
   "source": [
    "import pandas as pd\n",
    "import numpy as np\n",
    "from sklearn.linear_model import LinearRegression\n",
    "\n",
    "# Step 1: Generate Sample Data\n",
    "np.random.seed(42)\n",
    "\n",
    "# Generate sample data for past runs\n",
    "num_runs = 100\n",
    "age = np.random.randint(18, 60, num_runs)\n",
    "gender = np.random.choice(['Male', 'Female'], num_runs)\n",
    "height = np.random.uniform(150, 190, num_runs)\n",
    "weight = np.random.uniform(50, 100, num_runs)\n",
    "time = np.arange(1, num_runs + 1)\n",
    "speed = np.random.uniform(5, 15, num_runs)\n",
    "\n",
    "past_runs_data = pd.DataFrame({\n",
    "    'Age': age,\n",
    "    'Gender': gender,\n",
    "    'Height': height,\n",
    "    'Weight': weight,\n",
    "    'Time': time,\n",
    "    'Speed': speed\n",
    "})\n",
    "\n",
    "# Step 2: Train a Model\n",
    "X_train = past_runs_data[['Age', 'Height', 'Weight', 'Time', 'Speed']]\n",
    "y_train = past_runs_data['Weight']\n",
    "\n",
    "model = LinearRegression()\n",
    "model.fit(X_train, y_train)\n",
    "\n",
    "# Step 3: Simulate User Input for the Next Run\n",
    "user_input = pd.DataFrame({\n",
    "    'Age': [30],\n",
    "    'Gender': ['Male'],\n",
    "    'Height': [175],\n",
    "    'Weight': [80],\n",
    "    'Time': [9],  # Add a dummy time value for prediction\n",
    "    'Speed': [0],  # Add a dummy speed value for prediction\n",
    "    'TargetWeight': [75],\n",
    "    'WeeksToAchieve': [12]\n",
    "})\n",
    "\n",
    "# Step 4: Use the Model to Predict the Next Run's Speed\n",
    "user_features = user_input[['Age', 'Height', 'Weight', 'Time', 'Speed']]\n",
    "predicted_speed = model.predict(user_features)\n",
    "\n",
    "# Step 5: Generate Future Time Series Data for the Next Run\n",
    "future_run_time = np.arange(0, 1201, 5)  # Assuming a 20-minute run for simplicity\n",
    "future_run_speed = np.full(len(future_run_time), predicted_speed[0])\n",
    "\n",
    "future_time_series_data = pd.DataFrame({\n",
    "    'Time': future_run_time,\n",
    "    'Speed': future_run_speed,\n",
    "    'RunIndex': [num_runs] * len(future_run_time)\n",
    "})\n",
    "\n",
    "# Display the future time series data\n",
    "print(future_time_series_data.head())\n"
   ]
  },
  {
   "cell_type": "code",
   "execution_count": null,
   "metadata": {},
   "outputs": [],
   "source": [
    "import matplotlib.pyplot as plt\n",
    "\n",
    "# Assuming you have a trained model named 'model'\n",
    "# Use the model to predict the next run's speed\n",
    "user_features_for_prediction = user_input[['Age', 'Height', 'Weight', 'Time']]\n",
    "predicted_speed = model.predict(user_features_for_prediction)\n",
    "\n",
    "# Generate future time series data for the next run with dynamic variations\n",
    "future_run_time = np.arange(0, 1201, 5)  # Assuming a 20-minute run for simplicity\n",
    "dynamic_variation = np.sin(np.linspace(0, 4 * np.pi, len(future_run_time)))  # Example dynamic variation\n",
    "future_run_speed = predicted_speed[0] + dynamic_variation\n",
    "\n",
    "# Calculate the \"Volume\" based on the speed at each time\n",
    "volume = np.cumsum(future_run_speed) * 5 / 60  # Assuming time interval is 5 seconds and convert to minutes\n",
    "\n",
    "future_time_series_data = pd.DataFrame({\n",
    "    'Time': future_run_time,\n",
    "    'Speed': future_run_speed,\n",
    "    'Volume': volume,\n",
    "    'RunIndex': [num_runs] * len(future_run_time),  # Use a new index for the next run\n",
    "})\n",
    "\n",
    "# Plotting the Future Run Data with dynamic variations\n",
    "plt.figure(figsize=(12, 6))\n",
    "plt.plot(future_time_series_data['Time'], future_time_series_data['Speed'], label='Future Run', linestyle='--', color='red')\n",
    "plt.plot(future_time_series_data['Time'], future_time_series_data['Volume'], label='Volume', linestyle='-', color='blue')\n",
    "\n",
    "# Adding labels and title\n",
    "plt.xlabel('Time (seconds)')\n",
    "plt.ylabel('Speed / Volume')\n",
    "plt.title('Future Run Data with Dynamic Variations')\n",
    "plt.legend()\n",
    "plt.grid(True)\n",
    "\n",
    "# Show the plot\n",
    "plt.show()\n"
   ]
  },
  {
   "cell_type": "code",
   "execution_count": null,
   "metadata": {},
   "outputs": [],
   "source": [
    "import matplotlib.pyplot as plt\n",
    "\n",
    "# Plotting the Future Run Data\n",
    "plt.figure(figsize=(12, 6))\n",
    "plt.plot(future_time_series_data['Time'], future_time_series_data['Speed'], label='Future Run', linestyle='--', color='red')\n",
    "\n",
    "# Adding labels and title\n",
    "plt.xlabel('Time (seconds)')\n",
    "plt.ylabel('Speed')\n",
    "plt.title('Future Run Data')\n",
    "plt.legend()\n",
    "plt.grid(True)\n",
    "\n",
    "# Show the plot\n",
    "plt.show()\n"
   ]
  },
  {
   "cell_type": "code",
   "execution_count": null,
   "metadata": {},
   "outputs": [],
   "source": []
  }
 ],
 "metadata": {
  "kernelspec": {
   "display_name": ".venv",
   "language": "python",
   "name": "python3"
  },
  "language_info": {
   "codemirror_mode": {
    "name": "ipython",
    "version": 3
   },
   "file_extension": ".py",
   "mimetype": "text/x-python",
   "name": "python",
   "nbconvert_exporter": "python",
   "pygments_lexer": "ipython3",
   "version": "3.12.0"
  }
 },
 "nbformat": 4,
 "nbformat_minor": 2
}
